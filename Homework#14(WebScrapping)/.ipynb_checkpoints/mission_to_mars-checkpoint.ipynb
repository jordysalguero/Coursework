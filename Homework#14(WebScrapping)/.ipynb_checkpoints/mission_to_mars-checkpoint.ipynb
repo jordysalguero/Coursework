{
 "cells": [
  {
   "cell_type": "code",
   "execution_count": 1,
   "metadata": {},
   "outputs": [],
   "source": [
    "#import dependencies\n",
    "from splinter import Browser\n",
    "from bs4 import BeautifulSoup as bs\n",
    "import time\n",
    "import requests\n",
    "import pandas as pd"
   ]
  },
  {
   "cell_type": "markdown",
   "metadata": {},
   "source": [
    "## Mars News"
   ]
  },
  {
   "cell_type": "code",
   "execution_count": 2,
   "metadata": {},
   "outputs": [],
   "source": [
    "def init_browser():\n",
    "    executable_path = {\"executable_path\": \"C:/Users/jordy/Documents/chromedriver\"}\n",
    "    browser = Browser(\"chrome\", **executable_path, headless = False)\n",
    "    "
   ]
  },
  {
   "cell_type": "code",
   "execution_count": 3,
   "metadata": {},
   "outputs": [],
   "source": [
    "mars_info = {}"
   ]
  },
  {
   "cell_type": "code",
   "execution_count": 6,
   "metadata": {},
   "outputs": [],
   "source": [
    "def mars_news ():\n",
    "    #Initialize Browser\n",
    "    browser = init_browser()\n",
    "    \n",
    "    #visit the Mars news website\n",
    "    mars_news_url = \"https://mars.nasa.gov/news/\"\n",
    "\n",
    "    browser.visit(mars_news_url)\n",
    "\n",
    "    time.sleep(1)\n",
    "\n",
    "    # Parse HTML with Beautiful Soup\n",
    "    html = browser.html\n",
    "    soup = bs(html, \"html.parser\")\n",
    "\n",
    "    #Get title and paragraph\n",
    "    news_title = soup.find('div', class_=\"content_title\").find_all('a')[0].text\n",
    "    news_paragraph = soup.find('div', class_=\"article_teaser_body\").text\n",
    "    \n",
    "    #Dictionary entry for mars news\n",
    "    mars_info['news_title'] = news_title\n",
    "    mars_info['news_paragraph'] = news_paragraph\n",
    "    \n",
    "    return mars_info\n",
    "\n",
    "    #Quite browser\n",
    "    browser.quit()"
   ]
  },
  {
   "cell_type": "markdown",
   "metadata": {},
   "source": [
    "## Mars Space Image"
   ]
  },
  {
   "cell_type": "code",
   "execution_count": 7,
   "metadata": {},
   "outputs": [],
   "source": [
    "def mars_image():\n",
    "    \n",
    "    #Initialize Browser\n",
    "    browser = init_browser()\n",
    "    \n",
    "    mars_image_url = 'https://www.jpl.nasa.gov/spaceimages/?search=&category=Mars'\n",
    "    browser.visit(mars_image_url)\n",
    "\n",
    "    # HTML Object\n",
    "    html_image = browser.html\n",
    "\n",
    "    # Parse HTML with Beautiful Soup\n",
    "    soup = bs(html_image, 'html.parser')\n",
    "\n",
    "    # Retrieve background-image url from style tag\n",
    "    featured_image_url  = soup.find('article')['style'].replace('background-image: url(','').replace(');', '')[1:-1]\n",
    "\n",
    "    # Website Url\n",
    "    main_url = 'https://www.jpl.nasa.gov'\n",
    "\n",
    "    # Concatenate website url with scrapped route\n",
    "    featured_image_url = main_url + featured_image_url\n",
    "\n",
    "    # Display full link to featured image\n",
    "    featured_image_url\n",
    "    \n",
    "    #Dictionary entry for mars image\n",
    "    mars_info['featured_image_url'] = featured_image_url\n",
    "    \n",
    "    return mars_info\n",
    "\n",
    "    #Quit Browser\n",
    "    browser.quit()\n"
   ]
  },
  {
   "cell_type": "markdown",
   "metadata": {},
   "source": [
    "## Mars Twitter"
   ]
  },
  {
   "cell_type": "code",
   "execution_count": 8,
   "metadata": {},
   "outputs": [],
   "source": [
    "def mars_twitter():\n",
    "    \n",
    "    #Initialize Browser\n",
    "    browser = init_browser()\n",
    "\n",
    "    #visit the Mars Weather Twitter Account\n",
    "    mars_twitter_url = \"https://twitter.com/marswxreport?lang=en\"\n",
    "    browser.visit(mars_twitter_url)\n",
    "\n",
    "    # Parse HTML with Beautiful Soup\n",
    "    html = browser.html\n",
    "    soup = bs(html, \"html.parser\")\n",
    "\n",
    "    #Retrieve Weather information\n",
    "    mars_weather = soup.find(\"p\", class_=\"TweetTextSize TweetTextSize--normal js-tweet-text tweet-text\").text\n",
    "    \n",
    "    #Dictionary entry for mars image\n",
    "    mars_info[\"mars_weather\"] = mars_weather\n",
    "    \n",
    "    return mars_info\n",
    "\n",
    "    browser.quit()"
   ]
  },
  {
   "cell_type": "markdown",
   "metadata": {},
   "source": [
    "## Mars Facts Webpage"
   ]
  },
  {
   "cell_type": "code",
   "execution_count": 12,
   "metadata": {},
   "outputs": [],
   "source": [
    "def mars_facts():\n",
    "    \n",
    "    #visit the Mars Facts webpage and scrape using Pandas\n",
    "    mars_facts_url = \"https://space-facts.com/mars/\"\n",
    "\n",
    "    #read the url with pandas\n",
    "    mars_facts = pd.read_html(mars_facts_url)\n",
    "\n",
    "    #Read table in html\n",
    "    mars_facts_df = mars_facts[0]\n",
    "\n",
    "    mars_facts_df.columns = [\"Description\", \"Value\"]\n",
    "\n",
    "    mars_facts_df.set_index(\"Description\", inplace = True)\n",
    "\n",
    "    data = mars_facts_df.to_html()\n",
    "    \n",
    "    #Dictionary entry for mars facts\n",
    "    mars_info[\"mars_facts_df\"] = data\n",
    "    \n",
    "    return mars_info"
   ]
  },
  {
   "cell_type": "markdown",
   "metadata": {},
   "source": [
    "## USGS Astrogeology"
   ]
  },
  {
   "cell_type": "code",
   "execution_count": 13,
   "metadata": {},
   "outputs": [],
   "source": [
    "def mars_hemispheres():\n",
    "\n",
    "    # Initialize Browser\n",
    "    browser = init_browser()\n",
    "\n",
    "    # Visit website using splinter\n",
    "    hemisphere_url = \"https://astrogeology.usgs.gov/search/results?q=hemisphere+enhanced&k1=target&v1=Mars\"\n",
    "    browser.visit(hemisphere_url)\n",
    "\n",
    "    html= browser.html\n",
    "\n",
    "    # Parse HTML with Beautiful Soup\n",
    "    soup = bs(html, 'html.parser')\n",
    "\n",
    "    #Gather information\n",
    "    items = soup.find_all('div', class_=\"item\")\n",
    "\n",
    "    hemi_url = []\n",
    "\n",
    "    # Main URL\n",
    "    hemisphere_url_main = \"https://astrogeology.usgs.gov\"\n",
    "\n",
    "    # Loop items\n",
    "    for i in items:\n",
    "        # Title\n",
    "        title = i.find('h3').text\n",
    "\n",
    "        #link for image website\n",
    "        img_url = i.find('a', class_='itemLink product-item')['href']\n",
    "\n",
    "        # Visit each img link\n",
    "        browser.visit(hemisphere_url_main + img_url)\n",
    "\n",
    "        img_url_html = browser.html\n",
    "\n",
    "        #Parse through the items\n",
    "        soup = bs(img_url_html, \"html.parser\")\n",
    "\n",
    "        #get img source\n",
    "        final_img_url = hemisphere_url_main + soup.find('img', class_ = \"wide-image\")['src']\n",
    "\n",
    "        # Append the information \n",
    "        hemi_url.append({\"title\": title, \"img_url\": final_img_url})\n",
    "\n",
    "    mars_info['hemi_url'] = hemi_url\n",
    "\n",
    "    return mars_info"
   ]
  },
  {
   "cell_type": "code",
   "execution_count": null,
   "metadata": {},
   "outputs": [],
   "source": []
  },
  {
   "cell_type": "code",
   "execution_count": null,
   "metadata": {},
   "outputs": [],
   "source": []
  }
 ],
 "metadata": {
  "kernelspec": {
   "display_name": "Python 3",
   "language": "python",
   "name": "python3"
  },
  "language_info": {
   "codemirror_mode": {
    "name": "ipython",
    "version": 3
   },
   "file_extension": ".py",
   "mimetype": "text/x-python",
   "name": "python",
   "nbconvert_exporter": "python",
   "pygments_lexer": "ipython3",
   "version": "3.7.1"
  }
 },
 "nbformat": 4,
 "nbformat_minor": 2
}
